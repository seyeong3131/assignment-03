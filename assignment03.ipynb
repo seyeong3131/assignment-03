{
 "cells": [
  {
   "cell_type": "code",
   "execution_count": 50,
   "metadata": {},
   "outputs": [
    {
     "data": {
      "image/png": "[encoded data removed]",
      "text/plain": [
       "<Figure size 432x288 with 1 Axes>"
      ]
     },
     "metadata": {},
     "output_type": "display_data"
    }
   ],
   "source": [
    "import numpy as np\n",
    "import math\n",
    "import random\n",
    "import matplotlib.pyplot as plt\n",
    "\n",
    "class Kmeans:\n",
    "    def __init__(self, k, data):\n",
    "        self.k = k\n",
    "        self.data = data\n",
    "        self.centroids = None\n",
    "        self.clusters = None\n",
    "        self.generatePointCluster()\n",
    "        self.initLabel()\n",
    "        \n",
    "    def generatePointCluster(self):\n",
    "        ## Initialize centroid\n",
    "        self.centroids = np.ndarray((self.k, data.shape[1]))\n",
    "        self.centroids = self.data[np.random.choice(self.data.shape[0],\n",
    "                                                   size=self.k,\n",
    "                                                   replace=False), :]\n",
    "\n",
    "    def computeDistance(self, a, b):\n",
    "        return np.sqrt(np.sum((a-b)**2))\n",
    "\n",
    "    def initLabel(self):\n",
    "        self.clusters = {i: [] for i in range(self.k)}\n",
    "    \n",
    "    def computeCentroid(self):\n",
    "        centers = np.ndarray(shape=self.centroids.shape)\n",
    "        \n",
    "        for k, samples in self.clusters.items():\n",
    "            temp_mean = []\n",
    "            temp_sam = np.array(samples)\n",
    "            \n",
    "            for i in range(self.data.shape[1]):\n",
    "                temp_mean.append(sum(temp_sam[:, i]) / temp_sam.shape[0])\n",
    "            \n",
    "            centers[k] = np.array(temp_mean)\n",
    "            \n",
    "        ## Find nearest centroid\n",
    "        for i in range(centers.shape[0]):\n",
    "            \n",
    "            distances = [self.computeDistance(centers[i], sample) \n",
    "                        for sample in self.clusters[i]]\n",
    "            new_centroid = distances.index(min(distances))\n",
    "            self.centroids[i] = self.clusters[i][new_centroid]\n",
    "        \n",
    "        self.initLabel()\n",
    "        \n",
    "    def assignLabel(self):\n",
    "        ## Assign each of Data to cluster\n",
    "        for _id, sample in enumerate(self.data):\n",
    "            distances = []\n",
    "            \n",
    "            for c in self.centroids:\n",
    "                distances.append(self.computeDistance(sample, c))\n",
    "            \n",
    "            cluster_num = distances.index(min(distances))\n",
    "            \n",
    "            self.clusters[cluster_num].append(sample)\n",
    "    \n",
    "    def compute(self):\n",
    "        \n",
    "        self.assignLabel()\n",
    "        ## Compute K means algorithm\n",
    "        for i in range(100):\n",
    "            self.computeCentroid()\n",
    "            self.assignLabel()\n",
    "            \n",
    "    \n",
    "data = np.random.rand(200,2)\n",
    "# print(data)\n",
    "k = Kmeans(3, data)\n",
    "# print(k.data.shape)\n",
    "k.compute()\n",
    "k.clusters\n",
    "\n",
    "plt.figure(2)\n",
    "x = [i[0] for i in k.clusters[0]]\n",
    "y = [i[1] for i in k.clusters[0]]\n",
    "plt.plot(x,y,\"ro\")\n",
    "\n",
    "x = [i[0] for i in k.clusters[1]]\n",
    "y = [i[1] for i in k.clusters[1]]\n",
    "plt.plot(x,y,\"co\")\n",
    "\n",
    "x = [i[0] for i in k.clusters[2]]\n",
    "y = [i[1] for i in k.clusters[2]]\n",
    "plt.plot(x,y,\"mo\")\n",
    "\n",
    "plt.show()"
   ]
  },
  {
   "cell_type": "code",
   "execution_count": null,
   "metadata": {},
   "outputs": [],
   "source": [
    "\n"
   ]
  },
  {
   "cell_type": "code",
   "execution_count": null,
   "metadata": {},
   "outputs": [],
   "source": []
  }
 ],
 "metadata": {
  "kernelspec": {
   "display_name": "Python 3",
   "language": "python",
   "name": "python3"
  },
  "language_info": {
   "codemirror_mode": {
    "name": "ipython",
    "version": 3
   },
   "file_extension": ".py",
   "mimetype": "text/x-python",
   "name": "python",
   "nbconvert_exporter": "python",
   "pygments_lexer": "ipython3",
   "version": "3.6.5"
  }
 },
 "nbformat": 4,
 "nbformat_minor": 2
}
